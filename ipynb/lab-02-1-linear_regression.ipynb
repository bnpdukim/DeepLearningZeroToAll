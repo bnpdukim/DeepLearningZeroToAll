{
 "cells": [
  {
   "cell_type": "markdown",
   "metadata": {},
   "source": [
    "# Lab-02-1 linear regression"
   ]
  },
  {
   "cell_type": "code",
   "execution_count": 10,
   "metadata": {
    "collapsed": true
   },
   "outputs": [],
   "source": [
    "import tensorflow as tf\n",
    "tf.set_random_seed(777)  # for reprducibilty"
   ]
  },
  {
   "cell_type": "markdown",
   "metadata": {},
   "source": [
    "## X and Y data"
   ]
  },
  {
   "cell_type": "code",
   "execution_count": 18,
   "metadata": {
    "collapsed": true
   },
   "outputs": [],
   "source": [
    "x_train = [1, 2, 3, 4,5,6,7,8,9]\n",
    "y_train = [3,4,5,6,7,8,9,11,13]"
   ]
  },
  {
   "cell_type": "code",
   "execution_count": 19,
   "metadata": {
    "collapsed": true
   },
   "outputs": [],
   "source": [
    "# Try to find value for W and b to compute y_data = x_data * W + b  \n",
    "# We know that W should be 1 and b should be 0\n",
    "# But let's TensorFlow figure it out \n",
    "W = tf.Variable(tf.random_normal([1]), name='weight')\n",
    "b = tf.Variable(tf.random_normal([1]), name='bias')"
   ]
  },
  {
   "cell_type": "markdown",
   "metadata": {},
   "source": [
    "## Our Model"
   ]
  },
  {
   "cell_type": "code",
   "execution_count": 20,
   "metadata": {
    "collapsed": true
   },
   "outputs": [],
   "source": [
    "# Out hypothesis XW+b\n",
    "hypothesis = x_train * W + b\n",
    "\n",
    "# cost/loss function\n",
    "cost = tf.reduce_mean(tf.square(hypothesis - y_train))"
   ]
  },
  {
   "cell_type": "markdown",
   "metadata": {},
   "source": [
    "## Minimize"
   ]
  },
  {
   "cell_type": "code",
   "execution_count": 21,
   "metadata": {
    "collapsed": true
   },
   "outputs": [],
   "source": [
    "optimizer = tf.train.GradientDescentOptimizer(learning_rate=0.01)\n",
    "train = optimizer.minimize(cost)"
   ]
  },
  {
   "cell_type": "markdown",
   "metadata": {},
   "source": [
    "## Prepare session"
   ]
  },
  {
   "cell_type": "code",
   "execution_count": 22,
   "metadata": {
    "collapsed": true
   },
   "outputs": [],
   "source": [
    "# Launch the graph in a session.\n",
    "sess = tf.Session()\n",
    "# Initializes global variables in the graph.\n",
    "sess.run(tf.global_variables_initializer())"
   ]
  },
  {
   "cell_type": "markdown",
   "metadata": {},
   "source": [
    "## Fit the line"
   ]
  },
  {
   "cell_type": "code",
   "execution_count": 23,
   "metadata": {},
   "outputs": [
    {
     "name": "stdout",
     "output_type": "stream",
     "text": [
      "0 25.3757 [ 0.44315171] [ 0.48046085]\n",
      "200 0.246242 [ 1.23904085] [ 1.06614065]\n",
      "400 0.225357 [ 1.20779073] [ 1.26277423]\n",
      "600 0.221332 [ 1.19407094] [ 1.34910345]\n",
      "800 0.220556 [ 1.18804729] [ 1.38700485]\n",
      "1000 0.220406 [ 1.18540299] [ 1.40364385]\n",
      "1200 0.220377 [ 1.18424213] [ 1.41094875]\n",
      "1400 0.220372 [ 1.18373239] [ 1.41415596]\n",
      "1600 0.220371 [ 1.18350852] [ 1.4155643]\n",
      "1800 0.22037 [ 1.18341029] [ 1.41618276]\n",
      "2000 0.22037 [ 1.18336713] [ 1.41645396]\n"
     ]
    }
   ],
   "source": [
    "for step in range(2001):\n",
    "    sess.run(train)\n",
    "    if step % 200 == 0:\n",
    "        print(step, sess.run(cost), sess.run(W), sess.run(b))"
   ]
  },
  {
   "cell_type": "markdown",
   "metadata": {},
   "source": [
    "#### Learns best fit W:[ 1.], b:[  0.]\n",
    "\n",
    "```\n",
    "0 3.51465 [-0.03875808] [ 0.40560108]\n",
    "200 0.0286106 [ 0.80354649] [ 0.44658491]\n",
    "400 0.010925 [ 0.87860364] [ 0.27596244]\n",
    "600 0.00417169 [ 0.92498434] [ 0.17052816]\n",
    "800 0.00159296 [ 0.95364493] [ 0.10537602]\n",
    "1000 0.000608266 [ 0.97135544] [ 0.06511588]\n",
    "1200 0.000232263 [ 0.98229945] [ 0.04023758]\n",
    "1400 8.86917e-05 [ 0.98906201] [ 0.02486444]\n",
    "1600 3.38653e-05 [ 0.99324113] [ 0.01536462]\n",
    "1800 1.2932e-05 [ 0.99582338] [ 0.00949448]\n",
    "2000 4.9383e-06 [ 0.99741906] [ 0.00586706]\n",
    "```"
   ]
  }
 ],
 "metadata": {
  "kernelspec": {
   "display_name": "Python 3",
   "language": "python",
   "name": "python3"
  },
  "language_info": {
   "codemirror_mode": {
    "name": "ipython",
    "version": 3
   },
   "file_extension": ".py",
   "mimetype": "text/x-python",
   "name": "python",
   "nbconvert_exporter": "python",
   "pygments_lexer": "ipython3",
   "version": "3.6.1"
  }
 },
 "nbformat": 4,
 "nbformat_minor": 2
}
